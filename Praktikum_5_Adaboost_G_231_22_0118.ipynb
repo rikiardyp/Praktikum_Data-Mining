{
  "cells": [
    {
      "cell_type": "markdown",
      "metadata": {
        "id": "3ph6NK3f0Zbl"
      },
      "source": [
        "**Nama: Riki Ardi Pranata**\n",
        "\n",
        "**Nim: G.231.22.0118**"
      ]
    },
    {
      "cell_type": "markdown",
      "metadata": {
        "id": "87zXDSyVyCml"
      },
      "source": [
        "**1.Mengimpor Perpustakaan yang di perlukan**"
      ]
    },
    {
      "cell_type": "code",
      "execution_count": 1,
      "metadata": {
        "id": "i9e7VutnyAn1"
      },
      "outputs": [],
      "source": [
        "# Load libraries\n",
        "from sklearn.ensemble import AdaBoostClassifier\n",
        "from sklearn import datasets\n",
        "# Import train_test_split function\n",
        "from sklearn.model_selection import train_test_split\n",
        "# Import scikit-learn metrics module for accuracy calculation\n",
        "from sklearn import metrics\n"
      ]
    },
    {
      "cell_type": "markdown",
      "metadata": {
        "id": "sA7-lTn2y8TX"
      },
      "source": [
        "**2. Mengambil Dataset**"
      ]
    },
    {
      "cell_type": "markdown",
      "metadata": {
        "id": "6YiYOqSYy-Ua"
      },
      "source": [
        "Menggunakan data Iris dari sklearn"
      ]
    },
    {
      "cell_type": "code",
      "execution_count": 2,
      "metadata": {
        "id": "EDaBZUzBzG7W"
      },
      "outputs": [],
      "source": [
        "# Load data\n",
        "iris = datasets.load_iris()\n",
        "X = iris.data\n",
        "y = iris.target\n"
      ]
    },
    {
      "cell_type": "markdown",
      "metadata": {
        "id": "oYhQM1fazJWg"
      },
      "source": [
        "**3. Memisahkan data training dan testing**"
      ]
    },
    {
      "cell_type": "code",
      "execution_count": 3,
      "metadata": {
        "id": "9rD5PpjvzSuq"
      },
      "outputs": [],
      "source": [
        "# Split dataset into training set and test set\n",
        "X_train, X_test, y_train, y_test = train_test_split(X, y, test_size=0.3) # 70% training and 30% test\n"
      ]
    },
    {
      "cell_type": "markdown",
      "metadata": {
        "id": "rBWkOZ0Gzk_0"
      },
      "source": [
        "**4. Membuat Model AdaBoost menggunakan Scikit-learn. AdaBoost menggunakan Pengklasifikasi Pohon Keputusan sebagai Pengklasifikasi default.**"
      ]
    },
    {
      "cell_type": "code",
      "execution_count": 4,
      "metadata": {
        "id": "boYpI4ELzkk1"
      },
      "outputs": [],
      "source": [
        "# Create adaboost classifier object\n",
        "abc = AdaBoostClassifier(n_estimators=50, learning_rate=1)\n",
        "\n",
        "# Train Adaboost Classifier\n",
        "model = abc.fit(X_train, y_train)\n",
        "\n",
        "# Predict the response for test dataset\n",
        "y_pred = model.predict(X_test)\n"
      ]
    },
    {
      "cell_type": "markdown",
      "metadata": {
        "id": "y8PE2Y0FztTv"
      },
      "source": [
        "**5. Akurasi Model**"
      ]
    },
    {
      "cell_type": "code",
      "execution_count": 5,
      "metadata": {
        "colab": {
          "base_uri": "https://localhost:8080/"
        },
        "id": "4C1LC00wzzc8",
        "outputId": "313a23fe-75cd-4e4a-f0e5-2b200b82f689"
      },
      "outputs": [
        {
          "name": "stdout",
          "output_type": "stream",
          "text": [
            "Accuracy: 0.9777777777777777\n"
          ]
        }
      ],
      "source": [
        "# Model Accuracy, how often is the classifier correct?\n",
        "print(\"Accuracy:\", metrics.accuracy_score(y_test, y_pred))"
      ]
    },
    {
      "cell_type": "markdown",
      "metadata": {
        "id": "EyUdjKj_0DTC"
      },
      "source": [
        "**Import Coding Machine Learning dari Github**"
      ]
    },
    {
      "cell_type": "code",
      "execution_count": 6,
      "metadata": {
        "colab": {
          "base_uri": "https://localhost:8080/"
        },
        "id": "aibqovia0EfN",
        "outputId": "61e6b349-3569-4459-9f8d-0623bf92882a"
      },
      "outputs": [
        {
          "name": "stdout",
          "output_type": "stream",
          "text": [
            "Cloning into 'ML-From-Scratch'...\n",
            "remote: Enumerating objects: 2558, done.\u001b[K\n",
            "remote: Total 2558 (delta 0), reused 0 (delta 0), pack-reused 2558\u001b[K\n",
            "Receiving objects: 100% (2558/2558), 553.45 KiB | 16.77 MiB/s, done.\n",
            "Resolving deltas: 100% (1960/1960), done.\n"
          ]
        }
      ],
      "source": [
        "!git clone https://github.com/eriklindernoren/ML-From-Scratch\n"
      ]
    },
    {
      "cell_type": "markdown",
      "metadata": {
        "id": "7p2aXlj-0R_a"
      },
      "source": [
        "**Mengakses Folder ML-From-Scratch**"
      ]
    },
    {
      "cell_type": "code",
      "execution_count": 14,
      "metadata": {
        "id": "NkRCMxTX0Rqc"
      },
      "outputs": [],
      "source": [
        "import sys\n",
        "sys.path.append('/content/ML-From-Scratch')\n"
      ]
    },
    {
      "cell_type": "markdown",
      "metadata": {
        "id": "q8KSi5Ok0eJf"
      },
      "source": [
        "Copy paste ke Colab file adaboost.py\n",
        "\n",
        "(di folder /ML-From-Scratch/mlfromscratch/supervised_learning/adaboost.py)\n",
        "\n",
        "Running: Dataset yang digunakan dari sklearn yaitu\n",
        "\n",
        "data = datasets.load_digits()\n"
      ]
    },
    {
      "cell_type": "code",
      "execution_count": 12,
      "metadata": {
        "id": "6wNH0P9X2gGt"
      },
      "outputs": [],
      "source": [
        "from sklearn import datasets\n",
        "data = datasets.load_digits()\n"
      ]
    },
    {
      "cell_type": "code",
      "execution_count": 23,
      "metadata": {
        "colab": {
          "base_uri": "https://localhost:8080/",
          "height": 510
        },
        "id": "GqCKWdl10xd0",
        "outputId": "c64d6007-1297-42ba-914f-07bee596ecb4"
      },
      "outputs": [
        {
          "name": "stdout",
          "output_type": "stream",
          "text": [
            "Accuracy: 0.9777777777777777\n"
          ]
        },
        {
          "data": {
            "image/png": "[encoded data removed]",
            "text/plain": [
              "<Figure size 640x480 with 1 Axes>"
            ]
          },
          "metadata": {},
          "output_type": "display_data"
        }
      ],
      "source": [
        "from __future__ import division, print_function\n",
        "import numpy as np\n",
        "import math\n",
        "from sklearn import datasets\n",
        "import matplotlib.pyplot as plt\n",
        "import pandas as pd\n",
        "from sklearn.decomposition import PCA\n",
        "\n",
        "# Import helper functions\n",
        "from mlfromscratch.utils import train_test_split, accuracy_score, Plot\n",
        "\n",
        "# Decision stump used as weak classifier in this impl. of Adaboost\n",
        "class DecisionStump():\n",
        "    def __init__(self):\n",
        "        # Determines if sample shall be classified as -1 or 1 given threshold\n",
        "        self.polarity = 1\n",
        "        # The index of the feature used to make classification\n",
        "        self.feature_index = None\n",
        "        # The threshold value that the feature should be measured against\n",
        "        self.threshold = None\n",
        "        # Value indicative of the classifier's accuracy\n",
        "        self.alpha = None\n",
        "\n",
        "class Adaboost():\n",
        "    \"\"\"Boosting method that uses a number of weak classifiers in\n",
        "    ensemble to make a strong classifier. This implementation uses decision\n",
        "    stumps, which is a one level Decision Tree.\n",
        "\n",
        "    Parameters:\n",
        "    -----------\n",
        "    n_clf: int\n",
        "        The number of weak classifiers that will be used.\n",
        "    \"\"\"\n",
        "    def __init__(self, n_clf=5):\n",
        "        self.n_clf = n_clf\n",
        "\n",
        "    def fit(self, X, y):\n",
        "        n_samples, n_features = np.shape(X)\n",
        "\n",
        "# Evaluate accuracy\n",
        "accuracy = accuracy_score(y_test, y_pred)\n",
        "print(f\"Accuracy: {accuracy}\")\n",
        "\n",
        "# Reduce dimensions with PCA\n",
        "pca = PCA(n_components=2)\n",
        "X_pca = pca.fit_transform(X_test)\n",
        "\n",
        "plt.figure()\n",
        "plt.scatter(X_pca[:, 0], X_pca[:, 1], c=y_pred, cmap='viridis', edgecolor='k', s=40)\n",
        "plt.title(f'Adaboost\\nAccuracy: {accuracy * 100:.1f}%')\n",
        "plt.xlabel('Principal Component 1')\n",
        "plt.ylabel('Principal Component 2')\n",
        "plt.show()"
      ]
    }
  ],
  "metadata": {
    "colab": {
      "authorship_tag": "ABX9TyOHDgNAYTQYMv687NIlh0kl",
      "include_colab_link": true,
      "provenance": []
    },
    "kernelspec": {
      "display_name": "Python 3",
      "name": "python3"
    },
    "language_info": {
      "name": "python"
    }
  },
  "nbformat": 4,
  "nbformat_minor": 0
}
